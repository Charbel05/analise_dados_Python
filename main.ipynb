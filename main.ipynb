{
 "cells": [
  {
   "cell_type": "markdown",
   "metadata": {},
   "source": [
    "# Python Insights - Analisando Dados com Python\n",
    "\n",
    "### Análise de dados do simulado semana 0 - CAAI\n",
    "\n",
    "Analisando e manipulando dados do simulado da semana 0 do CAAI (Curso Assistencial Amigos de Itajubá) que tinha:\n",
    "- 50 questões \n",
    "- 114 participantes"
   ]
  }
 ],
 "metadata": {
  "language_info": {
   "name": "python"
  }
 },
 "nbformat": 4,
 "nbformat_minor": 2
}
