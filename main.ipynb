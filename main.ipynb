{
 "cells": [
  {
   "cell_type": "markdown",
   "metadata": {},
   "source": [
    "# Python Insights - Analisando Dados com Python\n",
    "\n",
    "### Análise de dados do simulado semana 0 - CAAI\n",
    "\n",
    "Analisando e manipulando dados do simulado da semana 0 do CAAI (Curso Assistencial Amigos de Itajubá) que tinha:\n",
    "- 50 questões \n",
    "- 114 participantes"
   ]
  },
  {
   "cell_type": "code",
   "execution_count": null,
   "metadata": {},
   "outputs": [],
   "source": [
    "import pandas as pd\n",
    "\n",
    "tabela = pd.read_excel(\"Simulado_Zero_.xls\")\n",
    "tabela = tabela.drop(columns=\"Exam Set\")\n",
    "tabela = tabela.drop(columns=\"Name\")\n",
    "tabela = tabela.drop(columns=\"Total Marks\")\n",
    "tabela = tabela.drop(columns=\"Grade\")\n",
    "tabela = tabela.drop(columns=\"Exam\")\n",
    "tabela = tabela.drop(columns=\"Not attempted\")\n",
    "tabela = tabela.drop(columns=\"Assunto 1\")\n",
    "\n",
    "pd.set_option('display.max_columns', None)\n",
    "pd.set_option('display.max_rows', 10)\n",
    "\n",
    "tabela = tabela.sort_values(by='Rank')\n",
    "\n",
    "display(tabela)"
   ]
  }
 ],
 "metadata": {
  "language_info": {
   "name": "python"
  }
 },
 "nbformat": 4,
 "nbformat_minor": 2
}
