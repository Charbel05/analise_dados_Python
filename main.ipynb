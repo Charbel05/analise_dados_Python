{
 "cells": [
  {
   "cell_type": "markdown",
   "metadata": {},
   "source": [
    "# Python Insights - Analisando Dados com Python\n",
    "\n",
    "### Análise de dados do simulado semana 0 - CAAI\n",
    "\n",
    "Analisando e manipulando dados do simulado da semana 0 do CAAI (Curso Assistencial Amigos de Itajubá) que tinha:\n",
    "- 50 questões \n",
    "- 114 participantes"
   ]
  },
  {
   "cell_type": "code",
   "execution_count": null,
   "metadata": {},
   "outputs": [],
   "source": [
    "import pandas as pd\n",
    "\n",
    "tabela = pd.read_excel(\"Simulado_Zero_.xls\")\n",
    "tabela = tabela.drop(columns=\"Exam Set\")\n",
    "tabela = tabela.drop(columns=\"Name\")\n",
    "tabela = tabela.drop(columns=\"Total Marks\")\n",
    "tabela = tabela.drop(columns=\"Grade\")\n",
    "tabela = tabela.drop(columns=\"Exam\")\n",
    "tabela = tabela.drop(columns=\"Not attempted\")\n",
    "tabela = tabela.drop(columns=\"Assunto 1\")\n",
    "\n",
    "pd.set_option('display.max_columns', None)\n",
    "pd.set_option('display.max_rows', 10)\n",
    "\n",
    "tabela = tabela.sort_values(by='Rank')\n",
    "\n",
    "display(tabela)"
   ]
  },
  {
   "cell_type": "code",
   "execution_count": null,
   "metadata": {},
   "outputs": [],
   "source": [
    "# apenas para ver o quanto cada questão tem de erros e acertos\n",
    "aux_int = 1\n",
    "for coluna in tabela.columns:\n",
    "    aux_obj = str(aux_int)\n",
    "    if coluna == \"Q \" + aux_obj + \" Marks\":\n",
    "        # quantidade bruta\n",
    "        display(tabela[\"Q \" + aux_obj + \" Marks\"].value_counts())\n",
    "        # porcentagem\n",
    "        #display(tabela[\"Q \" + aux_obj + \" Marks\"].value_counts(normalize=True).map(\"{:.1%}\".format))\n",
    "        aux_int = aux_int + 1"
   ]
  },
  {
   "cell_type": "code",
   "execution_count": null,
   "metadata": {},
   "outputs": [],
   "source": [
    "aux_int = 1\n",
    "acertos_matA = 0\n",
    "tabela_matA = pd.DataFrame({'notas': [0.0, 1.0]})\n",
    "tabela_matB = pd.DataFrame({'notas': [0.0, 1.0]})\n",
    "tabela_fisA = pd.DataFrame({'notas': [0.0, 1.0]})\n",
    "tabela_fisB = pd.DataFrame({'notas': [0.0, 1.0]})\n",
    "tabela_quim = pd.DataFrame({'notas': [0.0, 1.0]})\n",
    "\n",
    "for coluna in tabela.columns:\n",
    "    aux_obj = str(aux_int)\n",
    "    if coluna == \"Q \" + aux_obj + \" Marks\":\n",
    "        if aux_int < 11:\n",
    "            contagem_matA = tabela[\"Q \" + aux_obj + \" Marks\"].value_counts()\n",
    "            tabela_matA['contagem' + aux_obj] = tabela_matA['notas'].map(contagem_matA)\n",
    "            aux_int = aux_int + 1\n",
    "\n",
    "aux_int = 0\n",
    "tabela_matA['Contagem'] = 0\n",
    "\n",
    "for c in tabela_matA.columns:\n",
    "    aux_obj = str(aux_int)\n",
    "    if aux_int>0 and aux_int<11:\n",
    "        tabela_matA['Contagem'] = tabela_matA['Contagem'] + tabela_matA['contagem' + aux_obj]\n",
    "        tabela_matA = tabela_matA.drop(columns=f'contagem{aux_obj}')\n",
    "    aux_int = aux_int + 1\n",
    "\n",
    "display(tabela_matA)"
   ]
  }
 ],
 "metadata": {
  "language_info": {
   "name": "python"
  }
 },
 "nbformat": 4,
 "nbformat_minor": 2
}
