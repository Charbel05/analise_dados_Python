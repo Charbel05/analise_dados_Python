{
 "cells": [
  {
   "cell_type": "markdown",
   "metadata": {},
   "source": [
    "# Python Insights - Analisando Dados com Python\n",
    "\n",
    "### Análise de dados do simulado semana 0 - CAAI\n",
    "\n",
    "Analisando e manipulando dados do simulado da semana 0 do CAAI (Curso Assistencial Amigos de Itajubá) que tinha:\n",
    "- 50 questões \n",
    "- 114 participantes"
   ]
  },
  {
   "cell_type": "code",
   "execution_count": 3,
   "metadata": {},
   "outputs": [
    {
     "name": "stderr",
     "output_type": "stream",
     "text": [
      "d:\\Python\\lib\\site-packages\\openpyxl\\styles\\stylesheet.py:226: UserWarning:\n",
      "\n",
      "Workbook contains no default style, apply openpyxl's default\n",
      "\n"
     ]
    }
   ],
   "source": [
    "import pandas as pd\n",
    "\n",
    "tabela = pd.read_excel(\"Simulado_Zero_.xls\")\n",
    "tabela = tabela.drop(columns=[\"Exam Set\",\"Name\",\"Total Marks\",\"Grade\",\"Exam\",\"Not attempted\",\"Assunto 1\"])\n",
    "\n",
    "pd.set_option('display.max_columns', None)\n",
    "pd.set_option('display.max_rows', 10)\n",
    "\n",
    "tabela = tabela.sort_values(by='Rank')\n",
    "\n",
    "#display(tabela)"
   ]
  },
  {
   "cell_type": "code",
   "execution_count": null,
   "metadata": {},
   "outputs": [],
   "source": [
    "# apenas para ver o quanto cada questão tem de erros e acertos\n",
    "aux_int = 1\n",
    "for coluna in tabela.columns:\n",
    "    aux_obj = str(aux_int)\n",
    "    if coluna == \"Q \" + aux_obj + \" Marks\":\n",
    "        # quantidade bruta\n",
    "        display(tabela[\"Q \" + aux_obj + \" Marks\"].value_counts())\n",
    "        # porcentagem\n",
    "        #display(tabela[\"Q \" + aux_obj + \" Marks\"].value_counts(normalize=True).map(\"{:.1%}\".format))\n",
    "        aux_int = aux_int + 1"
   ]
  },
  {
   "cell_type": "code",
   "execution_count": 12,
   "metadata": {},
   "outputs": [],
   "source": [
    "# tabela para cada materia\n",
    "professores = ['Willian', 'Luis', 'Charbel',\n",
    "                 'Brenno', 'Gabriel', 'Lucas',\n",
    "                 'Vinicius', 'Joao Chico', 'Davi']\n",
    "tabelas = {}  # Criar um dicionário para armazenar os DataFrames\n",
    "for c in professores:\n",
    "    tabelas[c] = pd.DataFrame({'notas': [0.0, 1.0], 'Geral': 0})\n",
    "\n",
    "aux_int = 1\n",
    "for coluna in tabela.columns:\n",
    "    aux_obj = str(aux_int)\n",
    "    if coluna == \"Q \" + aux_obj + \" Marks\":\n",
    "        if aux_int > 0 and aux_int < 6:\n",
    "            Geral = tabela[\"Q \" + aux_obj + \" Marks\"].value_counts()\n",
    "            tabelas['Willian']['Q' + aux_obj] = tabelas['Willian']['notas'].map(Geral)\n",
    "            tabelas['Willian']['Geral'] = tabelas['Willian']['Geral'] + tabelas['Willian']['Q' + aux_obj]\n",
    "        if aux_int > 5 and aux_int < 12:\n",
    "            Geral = tabela[\"Q \" + aux_obj + \" Marks\"].value_counts()\n",
    "            tabelas['Luis']['Q' + aux_obj] = tabelas['Luis']['notas'].map(Geral)\n",
    "            tabelas['Luis']['Geral'] = tabelas['Luis']['Geral'] + tabelas['Luis']['Q' + aux_obj]\n",
    "        if aux_int > 11 and aux_int < 17:\n",
    "            Geral = tabela[\"Q \" + aux_obj + \" Marks\"].value_counts()\n",
    "            tabelas['Charbel']['Q' + aux_obj] = tabelas['Luis']['notas'].map(Geral)\n",
    "            tabelas['Charbel']['Geral'] = tabelas['Charbel']['Geral'] + tabelas['Charbel']['Q' + aux_obj]\n",
    "        if aux_int > 16 and aux_int < 23:\n",
    "            Geral = tabela[\"Q \" + aux_obj + \" Marks\"].value_counts()\n",
    "            tabelas['Brenno']['Q' + aux_obj] = tabelas['Luis']['notas'].map(Geral)\n",
    "            tabelas['Brenno']['Geral'] = tabelas['Brenno']['Geral'] + tabelas['Brenno']['Q' + aux_obj]\n",
    "        if aux_int > 22 and aux_int < 29:\n",
    "            Geral = tabela[\"Q \" + aux_obj + \" Marks\"].value_counts()\n",
    "            tabelas['Gabriel']['Q' + aux_obj] = tabelas['Luis']['notas'].map(Geral)\n",
    "            tabelas['Gabriel']['Geral'] = tabelas['Gabriel']['Geral'] + tabelas['Gabriel']['Q' + aux_obj]\n",
    "        if aux_int > 28 and aux_int < 35:\n",
    "            Geral = tabela[\"Q \" + aux_obj + \" Marks\"].value_counts()\n",
    "            tabelas['Lucas']['Q' + aux_obj] = tabelas['Luis']['notas'].map(Geral)\n",
    "            tabelas['Lucas']['Geral'] = tabelas['Lucas']['Geral'] + tabelas['Lucas']['Q' + aux_obj]\n",
    "        if aux_int > 34 and aux_int < 40:\n",
    "            Geral = tabela[\"Q \" + aux_obj + \" Marks\"].value_counts()\n",
    "            tabelas['Vinicius']['Q' + aux_obj] = tabelas['Luis']['notas'].map(Geral)\n",
    "            tabelas['Vinicius']['Geral'] = tabelas['Vinicius']['Geral'] + tabelas['Vinicius']['Q' + aux_obj]\n",
    "        if aux_int > 39 and aux_int < 45:\n",
    "            Geral = tabela[\"Q \" + aux_obj + \" Marks\"].value_counts()\n",
    "            tabelas['Joao Chico']['Q' + aux_obj] = tabelas['Luis']['notas'].map(Geral)\n",
    "            tabelas['Joao Chico']['Geral'] = tabelas['Joao Chico']['Geral'] + tabelas['Joao Chico']['Q' + aux_obj]\n",
    "        if aux_int > 44 and aux_int < 51:\n",
    "            Geral = tabela[\"Q \" + aux_obj + \" Marks\"].value_counts()\n",
    "            tabelas['Davi']['Q' + aux_obj] = tabelas['Luis']['notas'].map(Geral)\n",
    "            tabelas['Davi']['Geral'] = tabelas['Davi']['Geral'] + tabelas['Davi']['Q' + aux_obj]\n",
    "        aux_int = aux_int + 1   \n",
    "\n",
    "# for p in professores:\n",
    "#     print(p)\n",
    "#     display(tabelas[p])"
   ]
  },
  {
   "cell_type": "code",
   "execution_count": 5,
   "metadata": {},
   "outputs": [
    {
     "data": {
      "text/html": [
       "\n",
       "        <iframe\n",
       "            width=\"100%\"\n",
       "            height=\"650\"\n",
       "            src=\"http://127.0.0.1:8050/\"\n",
       "            frameborder=\"0\"\n",
       "            allowfullscreen\n",
       "            \n",
       "        ></iframe>\n",
       "        "
      ],
      "text/plain": [
       "<IPython.lib.display.IFrame at 0x1bc2d9abe80>"
      ]
     },
     "metadata": {},
     "output_type": "display_data"
    }
   ],
   "source": [
    "import plotly.express as px\n",
    "from dash import Dash, dcc, html, Input, Output\n",
    "\n",
    "def dash_app(nome_professor):\n",
    "    app = Dash(__name__)\n",
    "    app.layout = html.Div([\n",
    "        html.H4(nome_professor),\n",
    "        dcc.Graph(id=\"graph\"),\n",
    "        html.P(\"Questão:\"),\n",
    "        dcc.Dropdown(id='questoes',\n",
    "            options=tabelas[nome_professor].columns.drop('notas'),\n",
    "            value='Geral', clearable=False\n",
    "        ),\n",
    "    ])\n",
    "    @app.callback(\n",
    "        Output(\"graph\", \"figure\"), \n",
    "        Input(\"questoes\", \"value\"))\n",
    "    def generate_chart(questoes):\n",
    "        fig = px.pie(tabelas[nome_professor], values=questoes, names=\"notas\", hole=.3)\n",
    "        return fig\n",
    "    app.run(debug=True)\n",
    "\n",
    "# dash_app('Willian')\n",
    "# dash_app('Luis')\n",
    "# dash_app('Charbel')\n",
    "# dash_app('Brenno')\n",
    "# dash_app('Gabriel')\n",
    "# dash_app('Lucas')\n",
    "# dash_app('Vinicius')\n",
    "# dash_app('Joao Chico')\n",
    "# dash_app('Davi')"
   ]
  }
 ],
 "metadata": {
  "kernelspec": {
   "display_name": "Python 3",
   "language": "python",
   "name": "python3"
  },
  "language_info": {
   "codemirror_mode": {
    "name": "ipython",
    "version": 3
   },
   "file_extension": ".py",
   "mimetype": "text/x-python",
   "name": "python",
   "nbconvert_exporter": "python",
   "pygments_lexer": "ipython3",
   "version": "3.9.6"
  }
 },
 "nbformat": 4,
 "nbformat_minor": 2
}
