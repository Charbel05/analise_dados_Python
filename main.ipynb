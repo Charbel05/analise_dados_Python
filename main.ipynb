{
 "cells": [
  {
   "cell_type": "markdown",
   "metadata": {},
   "source": [
    "# Python Insights - Analisando Dados com Python\n",
    "\n",
    "### Análise de dados do simulado semana 0 - CAAI\n",
    "\n",
    "Analisando e manipulando dados do simulado da semana 0 do CAAI (Curso Assistencial Amigos de Itajubá) que tinha:\n",
    "- 50 questões \n",
    "- 114 participantes"
   ]
  },
  {
   "cell_type": "code",
   "execution_count": 33,
   "metadata": {},
   "outputs": [
    {
     "name": "stderr",
     "output_type": "stream",
     "text": [
      "d:\\Python\\lib\\site-packages\\openpyxl\\styles\\stylesheet.py:226: UserWarning:\n",
      "\n",
      "Workbook contains no default style, apply openpyxl's default\n",
      "\n"
     ]
    }
   ],
   "source": [
    "import pandas as pd\n",
    "\n",
    "tabela = pd.read_excel(\"Simulado_Zero_.xls\")\n",
    "tabela = tabela.drop(columns=[\"Exam Set\",\"Name\",\"Total Marks\",\"Grade\",\"Exam\",\"Not attempted\",\"Assunto 1\"])\n",
    "\n",
    "pd.set_option('display.max_columns', None)\n",
    "pd.set_option('display.max_rows', 10)\n",
    "\n",
    "tabela = tabela.sort_values(by='Rank')\n",
    "\n",
    "#display(tabela)"
   ]
  },
  {
   "cell_type": "code",
   "execution_count": null,
   "metadata": {},
   "outputs": [],
   "source": [
    "# apenas para ver o quanto cada questão tem de erros e acertos\n",
    "aux_int = 1\n",
    "for coluna in tabela.columns:\n",
    "    aux_obj = str(aux_int)\n",
    "    if coluna == \"Q \" + aux_obj + \" Marks\":\n",
    "        # quantidade bruta\n",
    "        display(tabela[\"Q \" + aux_obj + \" Marks\"].value_counts())\n",
    "        # porcentagem\n",
    "        #display(tabela[\"Q \" + aux_obj + \" Marks\"].value_counts(normalize=True).map(\"{:.1%}\".format))\n",
    "        aux_int = aux_int + 1"
   ]
  },
  {
   "cell_type": "code",
   "execution_count": 35,
   "metadata": {},
   "outputs": [],
   "source": [
    "# tabela para cada materia\n",
    "professores = ['Willian', 'Luis', 'Charbel',\n",
    "                 'Brenno', 'Gabriel', 'Lucas',\n",
    "                 'Vinicius', 'Joao Chico', 'Davi']\n",
    "tabelas = {}  # Criar um dicionário para armazenar os DataFrames\n",
    "for c in professores:\n",
    "    tabelas[c] = pd.DataFrame({'notas': [0.0, 1.0], 'Geral': 0})\n",
    "\n",
    "aux_int = 1\n",
    "for coluna in tabela.columns:\n",
    "    aux_obj = str(aux_int)\n",
    "    if coluna == \"Q \" + aux_obj + \" Marks\":\n",
    "        if aux_int > 0 and aux_int < 6:\n",
    "            Geral = tabela[\"Q \" + aux_obj + \" Marks\"].value_counts()\n",
    "            tabelas['Willian']['Q' + aux_obj] = tabelas['Willian']['notas'].map(Geral)\n",
    "            tabelas['Willian']['Geral'] = tabelas['Willian']['Geral'] + tabelas['Willian']['Q' + aux_obj]\n",
    "        if aux_int > 5 and aux_int < 12:\n",
    "            Geral = tabela[\"Q \" + aux_obj + \" Marks\"].value_counts()\n",
    "            tabelas['Luis']['Q' + aux_obj] = tabelas['Luis']['notas'].map(Geral)\n",
    "            tabelas['Luis']['Geral'] = tabelas['Luis']['Geral'] + tabelas['Luis']['Q' + aux_obj]\n",
    "        if aux_int > 11 and aux_int < 17:\n",
    "            Geral = tabela[\"Q \" + aux_obj + \" Marks\"].value_counts()\n",
    "            tabelas['Charbel']['Q' + aux_obj] = tabelas['Luis']['notas'].map(Geral)\n",
    "            tabelas['Charbel']['Geral'] = tabelas['Charbel']['Geral'] + tabelas['Charbel']['Q' + aux_obj]\n",
    "        if aux_int > 16 and aux_int < 23:\n",
    "            Geral = tabela[\"Q \" + aux_obj + \" Marks\"].value_counts()\n",
    "            tabelas['Brenno']['Q' + aux_obj] = tabelas['Luis']['notas'].map(Geral)\n",
    "            tabelas['Brenno']['Geral'] = tabelas['Brenno']['Geral'] + tabelas['Brenno']['Q' + aux_obj]\n",
    "        if aux_int > 22 and aux_int < 29:\n",
    "            Geral = tabela[\"Q \" + aux_obj + \" Marks\"].value_counts()\n",
    "            tabelas['Gabriel']['Q' + aux_obj] = tabelas['Luis']['notas'].map(Geral)\n",
    "            tabelas['Gabriel']['Geral'] = tabelas['Gabriel']['Geral'] + tabelas['Gabriel']['Q' + aux_obj]\n",
    "        if aux_int > 28 and aux_int < 35:\n",
    "            Geral = tabela[\"Q \" + aux_obj + \" Marks\"].value_counts()\n",
    "            tabelas['Lucas']['Q' + aux_obj] = tabelas['Luis']['notas'].map(Geral)\n",
    "            tabelas['Lucas']['Geral'] = tabelas['Lucas']['Geral'] + tabelas['Lucas']['Q' + aux_obj]\n",
    "        if aux_int > 34 and aux_int < 40:\n",
    "            Geral = tabela[\"Q \" + aux_obj + \" Marks\"].value_counts()\n",
    "            tabelas['Vinicius']['Q' + aux_obj] = tabelas['Luis']['notas'].map(Geral)\n",
    "            tabelas['Vinicius']['Geral'] = tabelas['Vinicius']['Geral'] + tabelas['Vinicius']['Q' + aux_obj]\n",
    "        if aux_int > 39 and aux_int < 45:\n",
    "            Geral = tabela[\"Q \" + aux_obj + \" Marks\"].value_counts()\n",
    "            tabelas['Joao Chico']['Q' + aux_obj] = tabelas['Luis']['notas'].map(Geral)\n",
    "            tabelas['Joao Chico']['Geral'] = tabelas['Joao Chico']['Geral'] + tabelas['Joao Chico']['Q' + aux_obj]\n",
    "        if aux_int > 44 and aux_int < 51:\n",
    "            Geral = tabela[\"Q \" + aux_obj + \" Marks\"].value_counts()\n",
    "            tabelas['Davi']['Q' + aux_obj] = tabelas['Luis']['notas'].map(Geral)\n",
    "            tabelas['Davi']['Geral'] = tabelas['Davi']['Geral'] + tabelas['Davi']['Q' + aux_obj]\n",
    "        aux_int = aux_int + 1   "
   ]
  },
  {
   "cell_type": "code",
   "execution_count": 66,
   "metadata": {},
   "outputs": [
    {
     "data": {
      "text/html": [
       "\n",
       "        <iframe\n",
       "            width=\"100%\"\n",
       "            height=\"650\"\n",
       "            src=\"http://127.0.0.1:8050/\"\n",
       "            frameborder=\"0\"\n",
       "            allowfullscreen\n",
       "            \n",
       "        ></iframe>\n",
       "        "
      ],
      "text/plain": [
       "<IPython.lib.display.IFrame at 0x28fef372580>"
      ]
     },
     "metadata": {},
     "output_type": "display_data"
    },
    {
     "data": {
      "text/html": [
       "\n",
       "        <iframe\n",
       "            width=\"100%\"\n",
       "            height=\"650\"\n",
       "            src=\"http://127.0.0.1:8050/\"\n",
       "            frameborder=\"0\"\n",
       "            allowfullscreen\n",
       "            \n",
       "        ></iframe>\n",
       "        "
      ],
      "text/plain": [
       "<IPython.lib.display.IFrame at 0x28fef2f1790>"
      ]
     },
     "metadata": {},
     "output_type": "display_data"
    },
    {
     "data": {
      "text/html": [
       "\n",
       "        <iframe\n",
       "            width=\"100%\"\n",
       "            height=\"650\"\n",
       "            src=\"http://127.0.0.1:8050/\"\n",
       "            frameborder=\"0\"\n",
       "            allowfullscreen\n",
       "            \n",
       "        ></iframe>\n",
       "        "
      ],
      "text/plain": [
       "<IPython.lib.display.IFrame at 0x28fef466f70>"
      ]
     },
     "metadata": {},
     "output_type": "display_data"
    },
    {
     "data": {
      "text/html": [
       "\n",
       "        <iframe\n",
       "            width=\"100%\"\n",
       "            height=\"650\"\n",
       "            src=\"http://127.0.0.1:8050/\"\n",
       "            frameborder=\"0\"\n",
       "            allowfullscreen\n",
       "            \n",
       "        ></iframe>\n",
       "        "
      ],
      "text/plain": [
       "<IPython.lib.display.IFrame at 0x28fef033190>"
      ]
     },
     "metadata": {},
     "output_type": "display_data"
    },
    {
     "data": {
      "text/html": [
       "\n",
       "        <iframe\n",
       "            width=\"100%\"\n",
       "            height=\"650\"\n",
       "            src=\"http://127.0.0.1:8050/\"\n",
       "            frameborder=\"0\"\n",
       "            allowfullscreen\n",
       "            \n",
       "        ></iframe>\n",
       "        "
      ],
      "text/plain": [
       "<IPython.lib.display.IFrame at 0x28fef36c1c0>"
      ]
     },
     "metadata": {},
     "output_type": "display_data"
    },
    {
     "data": {
      "text/html": [
       "\n",
       "        <iframe\n",
       "            width=\"100%\"\n",
       "            height=\"650\"\n",
       "            src=\"http://127.0.0.1:8050/\"\n",
       "            frameborder=\"0\"\n",
       "            allowfullscreen\n",
       "            \n",
       "        ></iframe>\n",
       "        "
      ],
      "text/plain": [
       "<IPython.lib.display.IFrame at 0x28fef4ca190>"
      ]
     },
     "metadata": {},
     "output_type": "display_data"
    },
    {
     "data": {
      "text/html": [
       "\n",
       "        <iframe\n",
       "            width=\"100%\"\n",
       "            height=\"650\"\n",
       "            src=\"http://127.0.0.1:8050/\"\n",
       "            frameborder=\"0\"\n",
       "            allowfullscreen\n",
       "            \n",
       "        ></iframe>\n",
       "        "
      ],
      "text/plain": [
       "<IPython.lib.display.IFrame at 0x28feeaae190>"
      ]
     },
     "metadata": {},
     "output_type": "display_data"
    },
    {
     "data": {
      "text/html": [
       "\n",
       "        <iframe\n",
       "            width=\"100%\"\n",
       "            height=\"650\"\n",
       "            src=\"http://127.0.0.1:8050/\"\n",
       "            frameborder=\"0\"\n",
       "            allowfullscreen\n",
       "            \n",
       "        ></iframe>\n",
       "        "
      ],
      "text/plain": [
       "<IPython.lib.display.IFrame at 0x28fef589190>"
      ]
     },
     "metadata": {},
     "output_type": "display_data"
    },
    {
     "data": {
      "text/html": [
       "\n",
       "        <iframe\n",
       "            width=\"100%\"\n",
       "            height=\"650\"\n",
       "            src=\"http://127.0.0.1:8050/\"\n",
       "            frameborder=\"0\"\n",
       "            allowfullscreen\n",
       "            \n",
       "        ></iframe>\n",
       "        "
      ],
      "text/plain": [
       "<IPython.lib.display.IFrame at 0x28fef5ff8b0>"
      ]
     },
     "metadata": {},
     "output_type": "display_data"
    },
    {
     "name": "stdout",
     "output_type": "stream",
     "text": [
      "---------------------------------------------------------------------------\n",
      "ValueError                                Traceback (most recent call last)\n",
      "Cell In[66], line 19, in generate_chart(questoes='Q40')\n",
      "     15 @app.callback(\n",
      "     16     Output(\"graph\", \"figure\"), \n",
      "     17     Input(\"questoes\", \"value\"))\n",
      "     18 def generate_chart(questoes):\n",
      "---> 19     fig = px.pie(tabelas[c], values=questoes, names=\"notas\", hole=.3)\n",
      "        tabelas[c] =    notas  Geral  Q45  Q46  Q47  Q48  Q49  Q50\n",
      "0    0.0    399   40   21   90   73   94   81\n",
      "1    1.0    285   74   93   24   41   20   33\n",
      "        px = <module 'plotly.express' from 'd:\\\\Python\\\\lib\\\\site-packages\\\\plotly\\\\express\\\\__init__.py'>\n",
      "        tabelas = {'Willian':    notas  Geral  Q1  Q2  Q3  Q4  Q5\n",
      "0    0.0    299  33  70  58  67  71\n",
      "1    1.0    271  81  44  56  47  43, 'Luis':    notas  Geral  Q6  Q7  Q8  Q9  Q10  Q11\n",
      "0    0.0    366  38  33  99  77   80   39\n",
      "1    1.0    318  76  81  15  37   34   75, 'Charbel':    notas  Geral  Q12  Q13  Q14  Q15  Q16\n",
      "0    0.0    412  101  101   36   76   98\n",
      "1    1.0    158   13   13   78   38   16, 'Brenno':    notas  Geral  Q17  Q18  Q19  Q20  Q21  Q22\n",
      "0    0.0    327   32   84   56   26   62   67\n",
      "1    1.0    357   82   30   58   88   52   47, 'Gabriel':    notas  Geral  Q23  Q24  Q25  Q26  Q27  Q28\n",
      "0    0.0    452   68   80   60   61  108   75\n",
      "1    1.0    232   46   34   54   53    6   39, 'Lucas':    notas  Geral  Q29  Q30  Q31  Q32  Q33  Q34\n",
      "0    0.0    442   91   74   94   78   91   14\n",
      "1    1.0    242   23   40   20   36   23  100, 'Vinicius':    notas  Geral  Q35  Q36  Q37  Q38  Q39\n",
      "0    0.0    287   60   61   30   80   56\n",
      "1    1.0    283   54   53   84   34   58, 'Joao Chico':    notas  Geral  Q40  Q41  Q42  Q43  Q44\n",
      "0    0.0    363   29   91  113  110   20\n",
      "1    1.0    207   85   23    1    4   94, 'Davi':    notas  Geral  Q45  Q46  Q47  Q48  Q49  Q50\n",
      "0    0.0    399   40   21   90   73   94   81\n",
      "1    1.0    285   74   93   24   41   20   33}\n",
      "        c = 'Davi'\n",
      "        questoes = 'Q40'\n",
      "     20     return fig\n",
      "\n",
      "File d:\\Python\\lib\\site-packages\\plotly\\express\\_chart_types.py:1482, in pie(\n",
      "    data_frame=   notas  Geral  Q45  Q46  Q47  Q48  Q49  Q50\n",
      "0 ... 81\n",
      "1    1.0    285   74   93   24   41   20   33,\n",
      "    names='notas',\n",
      "    values='Q40',\n",
      "    color=None,\n",
      "    facet_row=None,\n",
      "    facet_col=None,\n",
      "    facet_col_wrap=0,\n",
      "    facet_row_spacing=None,\n",
      "    facet_col_spacing=None,\n",
      "    color_discrete_sequence=None,\n",
      "    color_discrete_map=None,\n",
      "    hover_name=None,\n",
      "    hover_data=None,\n",
      "    custom_data=None,\n",
      "    category_orders=None,\n",
      "    labels=None,\n",
      "    title=None,\n",
      "    template=None,\n",
      "    width=None,\n",
      "    height=None,\n",
      "    opacity=None,\n",
      "    hole=0.3\n",
      ")\n",
      "   1480 else:\n",
      "   1481     layout_patch = {}\n",
      "-> 1482 return make_figure(\n",
      "        go = <module 'plotly.graph_objs' from 'd:\\\\Python\\\\lib\\\\site-packages\\\\plotly\\\\graph_objs\\\\__init__.py'>\n",
      "        names is not None = True\n",
      "        hole = 0.3\n",
      "        names = 'notas'\n",
      "        layout_patch = {}\n",
      "   1483     args=locals(),\n",
      "   1484     constructor=go.Pie,\n",
      "   1485     trace_patch=dict(showlegend=(names is not None), hole=hole),\n",
      "   1486     layout_patch=layout_patch,\n",
      "   1487 )\n",
      "\n",
      "File d:\\Python\\lib\\site-packages\\plotly\\express\\_core.py:2090, in make_figure(\n",
      "    args={'category_orders': None, 'color': None, 'color_discrete_map': None, 'color_discrete_sequence': None, 'custom_data': None, 'data_frame':    notas  Geral  Q45  Q46  Q47  Q48  Q49  Q50\n",
      "0 ... 81\n",
      "1    1.0    285   74   93   24   41   20   33, 'facet_col': None, 'facet_col_spacing': None, 'facet_col_wrap': 0, 'facet_row': None, ...},\n",
      "    constructor=<class 'plotly.graph_objs._pie.Pie'>,\n",
      "    trace_patch={'hole': 0.3, 'showlegend': True},\n",
      "    layout_patch={}\n",
      ")\n",
      "   2087 layout_patch = layout_patch or {}\n",
      "   2088 apply_default_cascade(args)\n",
      "-> 2090 args = build_dataframe(args, constructor)\n",
      "        args = {'data_frame':    notas  Geral  Q45  Q46  Q47  Q48  Q49  Q50\n",
      "0    0.0    399   40   21   90   73   94   81\n",
      "1    1.0    285   74   93   24   41   20   33, 'names': 'notas', 'values': 'Q40', 'color': None, 'facet_row': None, 'facet_col': None, 'facet_col_wrap': 0, 'facet_row_spacing': None, 'facet_col_spacing': None, 'color_discrete_sequence': None, 'color_discrete_map': None, 'hover_name': None, 'hover_data': None, 'custom_data': None, 'category_orders': None, 'labels': None, 'title': None, 'template': None, 'width': None, 'height': None, 'opacity': None, 'hole': 0.3, 'layout_patch': {}}\n",
      "        constructor = <class 'plotly.graph_objs._pie.Pie'>\n",
      "   2091 if constructor in [go.Treemap, go.Sunburst, go.Icicle] and args[\"path\"] is not None:\n",
      "   2092     args = process_dataframe_hierarchy(args)\n",
      "\n",
      "File d:\\Python\\lib\\site-packages\\plotly\\express\\_core.py:1492, in build_dataframe(\n",
      "    args={'category_orders': None, 'color': None, 'color_discrete_map': None, 'color_discrete_sequence': None, 'custom_data': None, 'data_frame':    notas  Geral  Q45  Q46  Q47  Q48  Q49  Q50\n",
      "0 ... 81\n",
      "1    1.0    285   74   93   24   41   20   33, 'facet_col': None, 'facet_col_spacing': None, 'facet_col_wrap': 0, 'facet_row': None, ...},\n",
      "    constructor=<class 'plotly.graph_objs._pie.Pie'>\n",
      ")\n",
      "   1489     args[\"color\"] = None\n",
      "   1490 # now that things have been prepped, we do the systematic rewriting of `args`\n",
      "-> 1492 df_output, wide_id_vars = process_args_into_dataframe(\n",
      "        args = {'data_frame':    notas  Geral  Q45  Q46  Q47  Q48  Q49  Q50\n",
      "0    0.0    399   40   21   90   73   94   81\n",
      "1    1.0    285   74   93   24   41   20   33, 'names': 'notas', 'values': 'Q40', 'color': None, 'facet_row': None, 'facet_col': None, 'facet_col_wrap': 0, 'facet_row_spacing': None, 'facet_col_spacing': None, 'color_discrete_sequence': None, 'color_discrete_map': None, 'hover_name': None, 'hover_data': None, 'custom_data': None, 'category_orders': None, 'labels': None, 'title': None, 'template': None, 'width': None, 'height': None, 'opacity': None, 'hole': 0.3, 'layout_patch': {}}\n",
      "        wide_mode = False\n",
      "        var_name = None\n",
      "        value_name = None\n",
      "   1493     args, wide_mode, var_name, value_name\n",
      "   1494 )\n",
      "   1496 # now that `df_output` exists and `args` contains only references, we complete\n",
      "   1497 # the special-case and wide-mode handling by further rewriting args and/or mutating\n",
      "   1498 # df_output\n",
      "   1500 count_name = _escape_col_name(df_output, \"count\", [var_name, value_name])\n",
      "\n",
      "File d:\\Python\\lib\\site-packages\\plotly\\express\\_core.py:1213, in process_args_into_dataframe(\n",
      "    args={'category_orders': None, 'color': None, 'color_discrete_map': None, 'color_discrete_sequence': None, 'custom_data': None, 'data_frame':    notas  Geral  Q45  Q46  Q47  Q48  Q49  Q50\n",
      "0 ... 81\n",
      "1    1.0    285   74   93   24   41   20   33, 'facet_col': None, 'facet_col_spacing': None, 'facet_col_wrap': 0, 'facet_row': None, ...},\n",
      "    wide_mode=False,\n",
      "    var_name=None,\n",
      "    value_name=None\n",
      ")\n",
      "   1211         if argument == \"index\":\n",
      "   1212             err_msg += \"\\n To use the index, pass it in directly as `df.index`.\"\n",
      "-> 1213         raise ValueError(err_msg)\n",
      "        err_msg = \"Value of 'values' is not the name of a column in 'data_frame'. Expected one of ['notas', 'Geral', 'Q45', 'Q46', 'Q47', 'Q48', 'Q49', 'Q50'] but received: Q40\"\n",
      "   1214 elif length and len(df_input[argument]) != length:\n",
      "   1215     raise ValueError(\n",
      "   1216         \"All arguments should have the same length. \"\n",
      "   1217         \"The length of column argument `df[%s]` is %d, whereas the \"\n",
      "   (...)\n",
      "   1224         )\n",
      "   1225     )\n",
      "\n",
      "ValueError: Value of 'values' is not the name of a column in 'data_frame'. Expected one of ['notas', 'Geral', 'Q45', 'Q46', 'Q47', 'Q48', 'Q49', 'Q50'] but received: Q40\n",
      "\n"
     ]
    }
   ],
   "source": [
    "import plotly.express as px\n",
    "from dash import Dash, dcc, html, Input, Output\n",
    "\n",
    "def dash_app(nome_professor):\n",
    "    app = Dash(__name__)\n",
    "    app.layout = html.Div([\n",
    "        html.H4(nome_professor),\n",
    "        dcc.Graph(id=\"graph\"),\n",
    "        html.P(\"Questão:\"),\n",
    "        dcc.Dropdown(id='questoes',\n",
    "            options=tabelas[nome_professor].columns.drop('notas'),\n",
    "            value='Geral', clearable=False\n",
    "        ),\n",
    "    ])\n",
    "    @app.callback(\n",
    "        Output(\"graph\", \"figure\"), \n",
    "        Input(\"questoes\", \"value\"))\n",
    "    def generate_chart(questoes):\n",
    "        fig = px.pie(tabelas[nome_professor], values=questoes, names=\"notas\", hole=.3)\n",
    "        return fig\n",
    "    app.run(debug=True)\n",
    "\n",
    "dash_app('Willian')\n",
    "dash_app('Luis')\n",
    "# dash_app('Charbel')\n",
    "# dash_app('Brenno')\n",
    "# dash_app('Gabriel')\n",
    "# dash_app('Lucas')\n",
    "# dash_app('Vinicius')\n",
    "# dash_app('Joao Chico')\n",
    "# dash_app('Davi')"
   ]
  }
 ],
 "metadata": {
  "kernelspec": {
   "display_name": "Python 3",
   "language": "python",
   "name": "python3"
  },
  "language_info": {
   "codemirror_mode": {
    "name": "ipython",
    "version": 3
   },
   "file_extension": ".py",
   "mimetype": "text/x-python",
   "name": "python",
   "nbconvert_exporter": "python",
   "pygments_lexer": "ipython3",
   "version": "3.9.6"
  }
 },
 "nbformat": 4,
 "nbformat_minor": 2
}
